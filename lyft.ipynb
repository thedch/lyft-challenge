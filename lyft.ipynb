{
 "cells": [
  {
   "cell_type": "markdown",
   "metadata": {},
   "source": [
    "## Lyft Challenge!\n",
    "\n",
    "https://www.udacity.com/lyft-challenge"
   ]
  },
  {
   "cell_type": "code",
   "execution_count": 1,
   "metadata": {},
   "outputs": [],
   "source": [
    "# Put these at the top of every notebook, to get automatic reloading and inline plotting\n",
    "%reload_ext autoreload\n",
    "%autoreload 2\n",
    "%matplotlib inline"
   ]
  },
  {
   "cell_type": "code",
   "execution_count": 2,
   "metadata": {},
   "outputs": [],
   "source": [
    "# This file contains all the main external libs we'll use\n",
    "from fastai.imports import *"
   ]
  },
  {
   "cell_type": "code",
   "execution_count": 3,
   "metadata": {},
   "outputs": [],
   "source": [
    "from fastai.transforms import *\n",
    "from fastai.conv_learner import *\n",
    "from fastai.model import *\n",
    "from fastai.dataset import *\n",
    "from fastai.sgdr import *\n",
    "from fastai.plots import *\n",
    "\n",
    "import pdb\n",
    "from pathlib import Path"
   ]
  },
  {
   "cell_type": "code",
   "execution_count": 99,
   "metadata": {},
   "outputs": [],
   "source": [
    "VEHICLES = 10 # Data encoding in the segmented image\n",
    "ROADS = 7\n",
    "ROAD_LINES = 6\n",
    "\n",
    "def open_image_no_norm(fn):\n",
    "    \"\"\" Opens an image using OpenCV given the file path.\n",
    "\n",
    "    Arguments:\n",
    "        fn: the file path of the image\n",
    "\n",
    "    Returns:\n",
    "        The image in RGB format as numpy array of ints\n",
    "    \"\"\"\n",
    "    flags = cv2.IMREAD_UNCHANGED+cv2.IMREAD_ANYDEPTH+cv2.IMREAD_ANYCOLOR\n",
    "    if not os.path.exists(fn):\n",
    "        raise OSError('No such file or directory: {}'.format(fn))\n",
    "    elif os.path.isdir(fn):\n",
    "        raise OSError('Is a directory: {}'.format(fn))\n",
    "    else:\n",
    "        try:\n",
    "            im = cv2.imread(str(fn), flags).astype(np.float32)\n",
    "            if im is None: raise OSError(f'File not recognized by opencv: {fn}')\n",
    "            return cv2.cvtColor(im, cv2.COLOR_BGR2RGB)\n",
    "        except Exception as e:\n",
    "            raise OSError('Error handling image at: {}'.format(fn)) from e\n",
    "\n",
    "def show_img(im, figsize=(10,10), ax=None, seg=False, channel=None):\n",
    "    if not ax: fig,ax = plt.subplots(figsize=figsize)\n",
    "    new_img = np.copy(im) # Prevent the original image from being modified\n",
    "    if seg:\n",
    "        new_img = new_img[:,:,0] # Grab just the red channel from the RGB image\n",
    "        if channel:\n",
    "            new_img[new_img != channel] = 0 # Display only the requested classes (roads etc)\n",
    "    ax.imshow(new_img)\n",
    "    ax.get_xaxis().set_visible(False)\n",
    "    ax.get_yaxis().set_visible(False)\n",
    "    return ax\n",
    "\n",
    "PATH = Path('train')"
   ]
  },
  {
   "cell_type": "code",
   "execution_count": 5,
   "metadata": {},
   "outputs": [
    {
     "data": {
      "text/plain": [
       "[PosixPath('train/CameraSeg'),\n",
       " PosixPath('train/car_masks_128'),\n",
       " PosixPath('train/models'),\n",
       " PosixPath('train/tmp'),\n",
       " PosixPath('train/train_128'),\n",
       " PosixPath('train/train_masks_128'),\n",
       " PosixPath('train/CameraRGB')]"
      ]
     },
     "execution_count": 5,
     "metadata": {},
     "output_type": "execute_result"
    }
   ],
   "source": [
    "list(PATH.iterdir())"
   ]
  },
  {
   "cell_type": "code",
   "execution_count": 6,
   "metadata": {},
   "outputs": [
    {
     "data": {
      "text/plain": [
       "[PosixPath('train/CameraRGB/5.png'),\n",
       " PosixPath('train/CameraRGB/88.png'),\n",
       " PosixPath('train/CameraRGB/0.png'),\n",
       " PosixPath('train/CameraRGB/128.png'),\n",
       " PosixPath('train/CameraRGB/406.png')]"
      ]
     },
     "execution_count": 6,
     "metadata": {},
     "output_type": "execute_result"
    }
   ],
   "source": [
    "RGB_PATH = PATH/'CameraRGB'\n",
    "list(RGB_PATH.iterdir())[:5]"
   ]
  },
  {
   "cell_type": "code",
   "execution_count": 7,
   "metadata": {},
   "outputs": [
    {
     "name": "stdout",
     "output_type": "stream",
     "text": [
      "(600, 800, 3)\n"
     ]
    }
   ],
   "source": [
    "test_RGB_image = open_image_no_norm(next(RGB_PATH.iterdir()))\n",
    "print(test_RGB_image.shape)\n",
    "# print(np.mean(test_RGB_image))\n",
    "# show_img(test_RGB_image);"
   ]
  },
  {
   "cell_type": "code",
   "execution_count": 8,
   "metadata": {},
   "outputs": [
    {
     "data": {
      "text/plain": [
       "[PosixPath('train/CameraSeg/5.png'),\n",
       " PosixPath('train/CameraSeg/88.png'),\n",
       " PosixPath('train/CameraSeg/0.png'),\n",
       " PosixPath('train/CameraSeg/128.png'),\n",
       " PosixPath('train/CameraSeg/406.png')]"
      ]
     },
     "execution_count": 8,
     "metadata": {},
     "output_type": "execute_result"
    }
   ],
   "source": [
    "seg_PATH = PATH/'CameraSeg'\n",
    "list(seg_PATH.iterdir())[:5]"
   ]
  },
  {
   "cell_type": "code",
   "execution_count": 9,
   "metadata": {},
   "outputs": [
    {
     "data": {
      "text/plain": [
       "<matplotlib.axes._subplots.AxesSubplot at 0x7fae60921be0>"
      ]
     },
     "execution_count": 9,
     "metadata": {},
     "output_type": "execute_result"
    },
    {
     "data": {
      "image/png": "[encoded data removed]",
      "text/plain": [
       "<Figure size 720x720 with 1 Axes>"
      ]
     },
     "metadata": {},
     "output_type": "display_data"
    }
   ],
   "source": [
    "test_seg_image = open_image_no_norm(next(seg_PATH.iterdir()))\n",
    "show_img(test_seg_image, seg=True, channel=ROADS)"
   ]
  },
  {
   "cell_type": "code",
   "execution_count": 10,
   "metadata": {},
   "outputs": [
    {
     "data": {
      "text/plain": [
       "<matplotlib.axes._subplots.AxesSubplot at 0x7fae083a2390>"
      ]
     },
     "execution_count": 10,
     "metadata": {},
     "output_type": "execute_result"
    },
    {
     "data": {
      "image/png": "[encoded data removed]",
      "text/plain": [
       "<Figure size 720x720 with 1 Axes>"
      ]
     },
     "metadata": {},
     "output_type": "display_data"
    }
   ],
   "source": [
    "show_img(test_seg_image, seg=True)"
   ]
  },
  {
   "cell_type": "markdown",
   "metadata": {},
   "source": [
    "Now that I have a feel for how the dataset looks, let's downsize the images for training"
   ]
  },
  {
   "cell_type": "code",
   "execution_count": 35,
   "metadata": {},
   "outputs": [],
   "source": [
    "# (PATH/'train_masks_128').mkdir(exist_ok=True)\n",
    "# (PATH/'train_128').mkdir(exist_ok=True)\n",
    "# (PATH/'car_masks_128').mkdir(exist_ok=True)\n",
    "# (PATH/'road_masks_128').mkdir(exist_ok=True)"
   ]
  },
  {
   "cell_type": "markdown",
   "metadata": {},
   "source": [
    "## Convert segmented image to just a specific channel"
   ]
  },
  {
   "cell_type": "code",
   "execution_count": 170,
   "metadata": {},
   "outputs": [],
   "source": [
    "values = (ROADS, ROAD_LINES)\n",
    "\n",
    "test_img = Image.open('train/train_masks_128/5.png')\n",
    "img_np = np.array(test_img)\n",
    "\n",
    "# print(img_np.max(), img_np.min(), img_np.mean(), img_np.shape)\n",
    "\n",
    "# Pull out R channel\n",
    "img_np_R = img_np[:,:,0]\n",
    "\n",
    "# Trim pixels as desired\n",
    "for value in values:\n",
    "    img_np_R[img_np_R == value] = 255\n",
    "\n",
    "    # img_np_R[img_np_R == ROAD_LINES] = 255\n",
    "img_np_R[img_np_R != 255] = 0\n",
    "\n",
    "# img_np[:,:,img_np != ROADS] = [0,0,0]\n",
    "# print(img_np.max(), img_np.min(), img_np.dtype, img_np.mean())\n",
    "\n",
    "# Save as jpg\n",
    "image = Image.fromarray(img_np, 'RGB')\n",
    "image.save('train/road_masks_128/5.png')\n",
    "           \n",
    "# new_img = new_img[:,:,0] # Grab just the red channel from the RGB image\n",
    "# new_img[new_img != channel] = 0 # Display only the requested classes (roads etc)\n",
    "\n",
    "# print(img_np.dtype)\n",
    "# print(type(np.array(test_img)))"
   ]
  },
  {
   "cell_type": "code",
   "execution_count": 181,
   "metadata": {},
   "outputs": [],
   "source": [
    "# Path('train/road_masks_128/5.png')\n",
    "filter_segmented(Path('train/train_masks_128/5.png'))"
   ]
  },
  {
   "cell_type": "code",
   "execution_count": 189,
   "metadata": {},
   "outputs": [
    {
     "name": "stderr",
     "output_type": "stream",
     "text": [
      "Clipping input data to the valid range for imshow with RGB data ([0..1] for floats or [0..255] for integers).\n"
     ]
    },
    {
     "name": "stdout",
     "output_type": "stream",
     "text": [
      "17.244873\n",
      "float32\n",
      "255.0\n",
      "0.0\n"
     ]
    },
    {
     "data": {
      "text/plain": [
       "<matplotlib.image.AxesImage at 0x7faddd6513c8>"
      ]
     },
     "execution_count": 189,
     "metadata": {},
     "output_type": "execute_result"
    },
    {
     "data": {
      "image/png": "[encoded data removed]",
      "text/plain": [
       "<Figure size 432x288 with 1 Axes>"
      ]
     },
     "metadata": {},
     "output_type": "display_data"
    }
   ],
   "source": [
    "test_seg_image = open_image_no_norm('train/road_masks_128/435.png')\n",
    "\n",
    "print(test_seg_image.mean())\n",
    "print(test_seg_image.dtype)\n",
    "print(test_seg_image.max())\n",
    "print(test_seg_image.min())\n",
    "# show_img(test_seg_image, seg=True)\n",
    "plt.imshow(test_seg_image)\n",
    "# print(test_seg_image[80])"
   ]
  },
  {
   "cell_type": "markdown",
   "metadata": {},
   "source": [
    "## Resize images"
   ]
  },
  {
   "cell_type": "code",
   "execution_count": 190,
   "metadata": {},
   "outputs": [],
   "source": [
    "def resize_mask(filename, size=128):\n",
    "    Image.open(filename).resize((size,size)).save((filename.parent.parent)/'train_masks_128'/filename.name)\n",
    "    \n",
    "def resize_img(filename, size=128):\n",
    "    Image.open(filename).resize((size,size)).save((filename.parent.parent)/'train_128'/filename.name)\n",
    "    \n",
    "def filter_segmented(filename, values=[ROADS, ROAD_LINES]):\n",
    "    '''Filters out pixels that are not the specified values (in the red color channel)'''\n",
    "    if not isinstance(values, list):\n",
    "        values = [values] \n",
    "        \n",
    "    test_img = Image.open(filename)\n",
    "    img_np = np.array(test_img)\n",
    "    \n",
    "    img_np_R = img_np[:,:,0] # Pull out R channel\n",
    "\n",
    "    for value in values: # Trim pixels as desired\n",
    "        img_np_R[img_np_R == value] = 255\n",
    "\n",
    "    img_np_R[img_np_R != 255] = 0\n",
    "\n",
    "    # Save to disk\n",
    "    image = Image.fromarray(img_np, 'RGB')\n",
    "    image.save((filename.parent.parent)/'road_masks_128'/filename.name) # hardcoded folder name for now\n",
    "#     pdb.set_trace()"
   ]
  },
  {
   "cell_type": "code",
   "execution_count": 191,
   "metadata": {},
   "outputs": [],
   "source": [
    "masks = list(seg_PATH.iterdir())\n",
    "imgs = list(RGB_PATH.iterdir())\n",
    "\n",
    "# print(masks[:5])\n",
    "# print(imgs[:5])\n",
    "\n",
    "# with ThreadPoolExecutor(8) as e: e.map(resize_mask, masks)\n",
    "# with ThreadPoolExecutor(8) as e: e.map(resize_img, imgs)\n",
    "\n",
    "small_masks_PATH = PATH/'train_masks_128'\n",
    "\n",
    "small_masks = list(small_masks_PATH.iterdir())\n",
    "for file in small_masks:\n",
    "    filter_segmented(file)\n",
    "    \n",
    "# with ThreadPoolExecutor(8) as e: e.map(filter_segmented, small_masks)"
   ]
  },
  {
   "cell_type": "code",
   "execution_count": 192,
   "metadata": {},
   "outputs": [
    {
     "data": {
      "text/plain": [
       "[PosixPath('train/train_masks_128/5.png'),\n",
       " PosixPath('train/train_masks_128/88.png'),\n",
       " PosixPath('train/train_masks_128/0.png'),\n",
       " PosixPath('train/train_masks_128/128.png'),\n",
       " PosixPath('train/train_masks_128/406.png')]"
      ]
     },
     "execution_count": 192,
     "metadata": {},
     "output_type": "execute_result"
    }
   ],
   "source": [
    "TRAIN_DN = 'train_128'\n",
    "MASKS_DN = 'train_masks_128'\n",
    "CAR_MASKS = 'car_masks_128'\n",
    "ROAD_MASKS = 'road_masks_128'\n",
    "sz = 128\n",
    "bs = 64\n",
    "\n",
    "list((PATH/MASKS_DN).iterdir())[:5]"
   ]
  },
  {
   "cell_type": "code",
   "execution_count": 193,
   "metadata": {},
   "outputs": [],
   "source": [
    "class MatchedFilesDatset(FilesDataset):\n",
    "    def __init__(self, filenames, y, transform, path):\n",
    "        assert(len(filenames == len(y)))\n",
    "        self.y = y\n",
    "        super().__init__(filenames, transform, path)\n",
    "        \n",
    "    def get_y(self, i): return open_image_no_norm(os.path.join(self.path, self.y[i]))\n",
    "    \n",
    "    def get_c(self): return 0"
   ]
  },
  {
   "cell_type": "code",
   "execution_count": 194,
   "metadata": {},
   "outputs": [
    {
     "data": {
      "text/plain": [
       "(1000, 1000)"
      ]
     },
     "execution_count": 194,
     "metadata": {},
     "output_type": "execute_result"
    }
   ],
   "source": [
    "x_names = np.array(list((PATH/TRAIN_DN).iterdir()))\n",
    "y_names = np.array(list((PATH/ROAD_MASKS).iterdir()))\n",
    "\n",
    "len(x_names), len(y_names)"
   ]
  },
  {
   "cell_type": "code",
   "execution_count": 195,
   "metadata": {},
   "outputs": [],
   "source": [
    "val_idxs = list(range(len(x_names)//5)) # 20% validation split\n",
    "((val_x, trn_x),(val_y, trn_y)) = split_by_idx(val_idxs, x_names, y_names) # split the in/out pairs the same"
   ]
  },
  {
   "cell_type": "code",
   "execution_count": 196,
   "metadata": {},
   "outputs": [
    {
     "data": {
      "text/plain": [
       "(200,\n",
       " 800,\n",
       " array([PosixPath('train/train_128/284.png'), PosixPath('train/train_128/595.png')], dtype=object))"
      ]
     },
     "execution_count": 196,
     "metadata": {},
     "output_type": "execute_result"
    }
   ],
   "source": [
    "len(val_x),len(trn_x),trn_x[:2]"
   ]
  },
  {
   "cell_type": "code",
   "execution_count": 197,
   "metadata": {},
   "outputs": [],
   "source": [
    "aug_tfms = [RandomRotate(4, tfm_y=TfmType.CLASS),\n",
    "            RandomFlip(tfm_y=TfmType.CLASS),\n",
    "            RandomLighting(0.05, 0.05)]"
   ]
  },
  {
   "cell_type": "code",
   "execution_count": 198,
   "metadata": {},
   "outputs": [],
   "source": [
    "transforms = tfms_from_model(resnet34, sz, crop_type=CropType.NO, tfm_y=TfmType.CLASS, aug_tfms=aug_tfms)\n",
    "datasets = ImageData.get_ds(MatchedFilesDatset, (trn_x,trn_y), (val_x,val_y), transforms, path='')\n",
    "md = ImageData(PATH, datasets, bs, num_workers=8, classes=None)"
   ]
  },
  {
   "cell_type": "code",
   "execution_count": 199,
   "metadata": {},
   "outputs": [],
   "source": [
    "denorm = md.trn_ds.denorm\n",
    "x,y = next(iter(md.aug_dl))\n",
    "x = denorm(x)"
   ]
  },
  {
   "cell_type": "code",
   "execution_count": 200,
   "metadata": {},
   "outputs": [],
   "source": [
    "class Empty(nn.Module): \n",
    "    def forward(self,x): return x\n",
    "\n",
    "models = ConvnetBuilder(resnet34, 0, 0, 0, custom_head=Empty())\n",
    "learn = ConvLearner(md, models)\n",
    "# learn.summary()"
   ]
  },
  {
   "cell_type": "code",
   "execution_count": 201,
   "metadata": {},
   "outputs": [],
   "source": [
    "class StdUpsample(nn.Module):\n",
    "    def __init__(self, nin, nout):\n",
    "        super().__init__()\n",
    "        self.conv = nn.ConvTranspose2d(nin, nout, 2, stride=2)\n",
    "        self.bn = nn.BatchNorm2d(nout)\n",
    "        \n",
    "    def forward(self, x): return self.bn(F.relu(self.conv(x)))"
   ]
  },
  {
   "cell_type": "code",
   "execution_count": 202,
   "metadata": {},
   "outputs": [],
   "source": [
    "flatten_channel = Lambda(lambda x: x[:,0])"
   ]
  },
  {
   "cell_type": "code",
   "execution_count": 203,
   "metadata": {},
   "outputs": [],
   "source": [
    "simple_up = nn.Sequential(\n",
    "    nn.ReLU(),\n",
    "    StdUpsample(512,256),\n",
    "    StdUpsample(256,256),\n",
    "    StdUpsample(256,256),\n",
    "    StdUpsample(256,256),\n",
    "    nn.ConvTranspose2d(256, 1, 2, stride=2),\n",
    "    flatten_channel\n",
    ")"
   ]
  },
  {
   "cell_type": "code",
   "execution_count": 204,
   "metadata": {},
   "outputs": [],
   "source": [
    "models = ConvnetBuilder(resnet34, 0, 0, 0, custom_head=simple_up)\n",
    "learn = ConvLearner(md, models)\n",
    "learn.opt_fn=optim.Adam\n",
    "learn.crit=nn.BCEWithLogitsLoss()\n",
    "learn.metrics=[accuracy_thresh(0.5)]"
   ]
  },
  {
   "cell_type": "code",
   "execution_count": 205,
   "metadata": {},
   "outputs": [
    {
     "data": {
      "application/vnd.jupyter.widget-view+json": {
       "model_id": "eb7194a30e794e918fbdf2cf2194c847",
       "version_major": 2,
       "version_minor": 0
      },
      "text/plain": [
       "HBox(children=(IntProgress(value=0, description='Epoch', max=1), HTML(value='')))"
      ]
     },
     "metadata": {},
     "output_type": "display_data"
    },
    {
     "name": "stdout",
     "output_type": "stream",
     "text": [
      "epoch      trn_loss   val_loss   <lambda>                      \n",
      "    0      -5153.640792 -68309113241.6 0.032086  \n",
      "\n"
     ]
    },
    {
     "data": {
      "image/png": "[encoded data removed]",
      "text/plain": [
       "<Figure size 432x288 with 1 Axes>"
      ]
     },
     "metadata": {},
     "output_type": "display_data"
    }
   ],
   "source": [
    "learn.lr_find()\n",
    "learn.sched.plot()"
   ]
  },
  {
   "cell_type": "code",
   "execution_count": 206,
   "metadata": {},
   "outputs": [],
   "source": [
    "lr=4e-2"
   ]
  },
  {
   "cell_type": "code",
   "execution_count": 207,
   "metadata": {},
   "outputs": [
    {
     "data": {
      "application/vnd.jupyter.widget-view+json": {
       "model_id": "81ce3a306ab04223b4a53bf1411dcc12",
       "version_major": 2,
       "version_minor": 0
      },
      "text/plain": [
       "HBox(children=(IntProgress(value=0, description='Epoch', max=5), HTML(value='')))"
      ]
     },
     "metadata": {},
     "output_type": "display_data"
    },
    {
     "name": "stdout",
     "output_type": "stream",
     "text": [
      "epoch      trn_loss   val_loss   <lambda>                      \n",
      "    0      -1045.679555 -18080.016719 0.337511  \n",
      "    1      -8905.703471 -35409.081719 0.662747                 \n",
      "    2      -24709.661128 -63586.606562 0.697817                \n",
      "    3      -45220.354129 -102257.021562 0.002869               \n",
      "    4      -65230.786004 -118017.932812 0.000771               \n",
      "\n"
     ]
    },
    {
     "data": {
      "text/plain": [
       "[array([-118017.93281]), 0.00077056884765625]"
      ]
     },
     "execution_count": 207,
     "metadata": {},
     "output_type": "execute_result"
    }
   ],
   "source": [
    "learn.fit(lr,1,cycle_len=5,use_clr=(20,5))"
   ]
  },
  {
   "cell_type": "code",
   "execution_count": 208,
   "metadata": {},
   "outputs": [],
   "source": [
    "learn.save('tmp')"
   ]
  },
  {
   "cell_type": "code",
   "execution_count": 209,
   "metadata": {},
   "outputs": [],
   "source": [
    "learn.load('tmp')"
   ]
  },
  {
   "cell_type": "code",
   "execution_count": 210,
   "metadata": {},
   "outputs": [],
   "source": [
    "py,ay = learn.predict_with_targs()"
   ]
  },
  {
   "cell_type": "code",
   "execution_count": 211,
   "metadata": {},
   "outputs": [
    {
     "data": {
      "text/plain": [
       "(200, 128, 128)"
      ]
     },
     "execution_count": 211,
     "metadata": {},
     "output_type": "execute_result"
    }
   ],
   "source": [
    "ay.shape"
   ]
  },
  {
   "cell_type": "code",
   "execution_count": 212,
   "metadata": {},
   "outputs": [
    {
     "data": {
      "image/png": "[encoded data removed]",
      "text/plain": [
       "<Figure size 720x720 with 1 Axes>"
      ]
     },
     "metadata": {},
     "output_type": "display_data"
    }
   ],
   "source": [
    "show_img(ay[0]);"
   ]
  },
  {
   "cell_type": "code",
   "execution_count": 213,
   "metadata": {},
   "outputs": [
    {
     "data": {
      "image/png": "[encoded data removed]",
      "text/plain": [
       "<Figure size 720x720 with 1 Axes>"
      ]
     },
     "metadata": {},
     "output_type": "display_data"
    }
   ],
   "source": [
    "show_img(py[0]);"
   ]
  }
 ],
 "metadata": {
  "kernelspec": {
   "display_name": "Python 3",
   "language": "python",
   "name": "python3"
  },
  "language_info": {
   "codemirror_mode": {
    "name": "ipython",
    "version": 3
   },
   "file_extension": ".py",
   "mimetype": "text/x-python",
   "name": "python",
   "nbconvert_exporter": "python",
   "pygments_lexer": "ipython3",
   "version": "3.6.5"
  }
 },
 "nbformat": 4,
 "nbformat_minor": 2
}
