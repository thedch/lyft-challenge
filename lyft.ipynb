{
 "cells": [
  {
   "cell_type": "markdown",
   "metadata": {},
   "source": [
    "## Lyft Challenge!\n",
    "\n",
    "https://www.udacity.com/lyft-challenge"
   ]
  },
  {
   "cell_type": "code",
   "execution_count": 1,
   "metadata": {},
   "outputs": [],
   "source": [
    "# Put these at the top of every notebook, to get automatic reloading and inline plotting\n",
    "%reload_ext autoreload\n",
    "%autoreload 2\n",
    "%matplotlib inline"
   ]
  },
  {
   "cell_type": "code",
   "execution_count": 2,
   "metadata": {},
   "outputs": [],
   "source": [
    "# This file contains all the main external libs we'll use\n",
    "from fastai.imports import *"
   ]
  },
  {
   "cell_type": "code",
   "execution_count": 3,
   "metadata": {},
   "outputs": [],
   "source": [
    "from fastai.transforms import *\n",
    "from fastai.conv_learner import *\n",
    "from fastai.model import *\n",
    "from fastai.dataset import *\n",
    "from fastai.sgdr import *\n",
    "from fastai.plots import *\n",
    "\n",
    "import pdb\n",
    "from pathlib import Path"
   ]
  },
  {
   "cell_type": "code",
   "execution_count": 45,
   "metadata": {},
   "outputs": [
    {
     "data": {
      "text/plain": [
       "[PosixPath('data/lyft/train_masks'), PosixPath('data/lyft/train')]"
      ]
     },
     "execution_count": 45,
     "metadata": {},
     "output_type": "execute_result"
    }
   ],
   "source": [
    "PATH = Path('data/lyft')\n",
    "list(PATH.iterdir())"
   ]
  },
  {
   "cell_type": "code",
   "execution_count": 61,
   "metadata": {},
   "outputs": [],
   "source": [
    "def isolate_roads(filename):\n",
    "    img = Image.open(filename)\n",
    "\n",
    "    img_np = np.array(img)\n",
    "\n",
    "    img_np_R = img_np[:,:,0] # Pull out R channel\n",
    "\n",
    "    img_np_R[img_np_R == 7] = 255\n",
    "    img_np_R[img_np_R == 6] = 255\n",
    "\n",
    "    img_np_R[img_np_R != 255] = 0\n",
    "\n",
    "    new_img = np.stack((img_np_R,img_np_R,img_np_R), axis=-1)\n",
    "    \n",
    "    image = Image.fromarray(new_img, 'RGB')\n",
    "    dest = Path('data/lyft/train_masks')\n",
    "    image.save(dest/filename.name)"
   ]
  },
  {
   "cell_type": "code",
   "execution_count": 80,
   "metadata": {},
   "outputs": [],
   "source": [
    "VEHICLES = 10 # Data encoding in the segmented image\n",
    "ROADS = 7\n",
    "ROAD_LINES = 6\n",
    "\n",
    "# def show_img(im, figsize=(10,10), ax=None, seg=False, channel=None):\n",
    "#     if not ax: fig,ax = plt.subplots(figsize=figsize)\n",
    "#     new_img = np.copy(im) # Prevent the original image from being modified\n",
    "#     if seg:\n",
    "#         new_img = new_img[:,:,0] # Grab just the red channel from the RGB image\n",
    "#         if channel:\n",
    "#             new_img[new_img != channel] = 0 # Display only the requested classes (roads etc)\n",
    "#     ax.imshow(new_img.astype(np.int32))\n",
    "#     ax.get_xaxis().set_visible(False)\n",
    "#     ax.get_yaxis().set_visible(False)\n",
    "#     return ax\n",
    "\n",
    "def show_img(im, figsize=None, ax=None, alpha=None):\n",
    "    if not ax: fix, ax = plt.subplots(figsize=figsize)\n",
    "    ax.imshow(im, alpha=alpha)\n",
    "    ax.set_axis_off()\n",
    "    return ax"
   ]
  },
  {
   "cell_type": "markdown",
   "metadata": {},
   "source": [
    "The following code takes the original labelled images and converts them to a more usable format. Run this code only once."
   ]
  },
  {
   "cell_type": "code",
   "execution_count": 59,
   "metadata": {},
   "outputs": [],
   "source": [
    "seg_PATH = Path('train/CameraSeg')\n",
    "original_segs = list(seg_PATH.iterdir())\n",
    "\n",
    "# for image in original_segs:\n",
    "#     isolate_roads(image)"
   ]
  },
  {
   "cell_type": "code",
   "execution_count": 64,
   "metadata": {},
   "outputs": [
    {
     "data": {
      "text/plain": [
       "[PosixPath('data/lyft/train/5.png'),\n",
       " PosixPath('data/lyft/train/88.png'),\n",
       " PosixPath('data/lyft/train/0.png')]"
      ]
     },
     "execution_count": 64,
     "metadata": {},
     "output_type": "execute_result"
    }
   ],
   "source": [
    "PATH = Path('data/lyft')\n",
    "input_images = PATH/'train'\n",
    "output_images = PATH/'train_masks'\n",
    "\n",
    "list(input_images.iterdir())[:3]"
   ]
  },
  {
   "cell_type": "code",
   "execution_count": 65,
   "metadata": {},
   "outputs": [
    {
     "data": {
      "text/plain": [
       "[PosixPath('data/lyft/train_masks/5.png'),\n",
       " PosixPath('data/lyft/train_masks/88.png'),\n",
       " PosixPath('data/lyft/train_masks/0.png')]"
      ]
     },
     "execution_count": 65,
     "metadata": {},
     "output_type": "execute_result"
    }
   ],
   "source": [
    "list(output_images.iterdir())[:3]"
   ]
  },
  {
   "cell_type": "code",
   "execution_count": 82,
   "metadata": {},
   "outputs": [
    {
     "data": {
      "text/plain": [
       "<matplotlib.axes._subplots.AxesSubplot at 0x7f65cbd7f828>"
      ]
     },
     "execution_count": 82,
     "metadata": {},
     "output_type": "execute_result"
    },
    {
     "data": {
      "image/png": "[encoded data removed]",
      "text/plain": [
       "<Figure size 432x288 with 1 Axes>"
      ]
     },
     "metadata": {},
     "output_type": "display_data"
    }
   ],
   "source": [
    "test_seg_image = open_image(list(output_images.iterdir())[0])\n",
    "show_img(test_seg_image)"
   ]
  },
  {
   "cell_type": "markdown",
   "metadata": {},
   "source": [
    "## Resize images"
   ]
  },
  {
   "cell_type": "code",
   "execution_count": 84,
   "metadata": {},
   "outputs": [],
   "source": [
    "TRAIN_DN = 'train'\n",
    "MASKS_DN = 'train_masks'\n",
    "sz = 128\n",
    "bs = 64"
   ]
  },
  {
   "cell_type": "code",
   "execution_count": 85,
   "metadata": {},
   "outputs": [],
   "source": [
    "class MatchedFilesDatset(FilesDataset):\n",
    "    def __init__(self, filenames, y, transform, path):\n",
    "        assert(len(filenames == len(y)))\n",
    "        self.y = y\n",
    "        super().__init__(filenames, transform, path)\n",
    "        \n",
    "    def get_y(self, i): return open_image_no_norm(os.path.join(self.path, self.y[i]))\n",
    "    \n",
    "    def get_c(self): return 0"
   ]
  },
  {
   "cell_type": "code",
   "execution_count": 87,
   "metadata": {},
   "outputs": [
    {
     "data": {
      "text/plain": [
       "(1000, 1000)"
      ]
     },
     "execution_count": 87,
     "metadata": {},
     "output_type": "execute_result"
    }
   ],
   "source": [
    "x_names = np.array(list((PATH/TRAIN_DN).iterdir()))\n",
    "y_names = np.array(list((PATH/MASKS_DN).iterdir()))\n",
    "\n",
    "len(x_names), len(y_names)"
   ]
  },
  {
   "cell_type": "code",
   "execution_count": 88,
   "metadata": {},
   "outputs": [],
   "source": [
    "val_idxs = list(range(len(x_names)//5)) # 20% validation split\n",
    "((val_x, trn_x),(val_y, trn_y)) = split_by_idx(val_idxs, x_names, y_names) # split the in/out pairs the same"
   ]
  },
  {
   "cell_type": "code",
   "execution_count": 90,
   "metadata": {},
   "outputs": [
    {
     "data": {
      "text/plain": [
       "(200,\n",
       " 800,\n",
       " PosixPath('data/lyft/train/284.png'),\n",
       " PosixPath('data/lyft/train_masks/284.png'))"
      ]
     },
     "execution_count": 90,
     "metadata": {},
     "output_type": "execute_result"
    }
   ],
   "source": [
    "len(val_x),len(trn_x),trn_x[0], trn_y[0]"
   ]
  },
  {
   "cell_type": "code",
   "execution_count": 91,
   "metadata": {},
   "outputs": [],
   "source": [
    "aug_tfms = [RandomRotate(4, tfm_y=TfmType.CLASS),\n",
    "            RandomFlip(tfm_y=TfmType.CLASS),\n",
    "            RandomLighting(0.05, 0.05)]"
   ]
  },
  {
   "cell_type": "code",
   "execution_count": 92,
   "metadata": {},
   "outputs": [],
   "source": [
    "transforms = tfms_from_model(resnet34, sz, crop_type=CropType.NO, tfm_y=TfmType.CLASS, aug_tfms=aug_tfms)\n",
    "datasets = ImageData.get_ds(MatchedFilesDatset, (trn_x,trn_y), (val_x,val_y), transforms, path='')\n",
    "md = ImageData(PATH, datasets, bs, num_workers=8, classes=None)"
   ]
  },
  {
   "cell_type": "code",
   "execution_count": 93,
   "metadata": {},
   "outputs": [],
   "source": [
    "denorm = md.trn_ds.denorm\n",
    "x,y = next(iter(md.aug_dl))\n",
    "x = denorm(x)"
   ]
  },
  {
   "cell_type": "code",
   "execution_count": 24,
   "metadata": {},
   "outputs": [],
   "source": [
    "class Empty(nn.Module): \n",
    "    def forward(self,x): return x\n",
    "\n",
    "models = ConvnetBuilder(resnet34, 0, 0, 0, custom_head=Empty())\n",
    "learn = ConvLearner(md, models)\n",
    "# learn.summary()"
   ]
  },
  {
   "cell_type": "code",
   "execution_count": 94,
   "metadata": {},
   "outputs": [],
   "source": [
    "class StdUpsample(nn.Module):\n",
    "    def __init__(self, nin, nout):\n",
    "        super().__init__()\n",
    "        self.conv = nn.ConvTranspose2d(nin, nout, 2, stride=2)\n",
    "        self.bn = nn.BatchNorm2d(nout)\n",
    "        \n",
    "    def forward(self, x): return self.bn(F.relu(self.conv(x)))"
   ]
  },
  {
   "cell_type": "code",
   "execution_count": 95,
   "metadata": {},
   "outputs": [],
   "source": [
    "flatten_channel = Lambda(lambda x: x[:,0])"
   ]
  },
  {
   "cell_type": "code",
   "execution_count": 96,
   "metadata": {},
   "outputs": [],
   "source": [
    "simple_up = nn.Sequential(\n",
    "    nn.ReLU(),\n",
    "    StdUpsample(512,256),\n",
    "    StdUpsample(256,256),\n",
    "    StdUpsample(256,256),\n",
    "    StdUpsample(256,256),\n",
    "    nn.ConvTranspose2d(256, 1, 2, stride=2),\n",
    "    flatten_channel\n",
    ")"
   ]
  },
  {
   "cell_type": "code",
   "execution_count": 97,
   "metadata": {},
   "outputs": [],
   "source": [
    "models = ConvnetBuilder(resnet34, 0, 0, 0, custom_head=simple_up)\n",
    "learn = ConvLearner(md, models)\n",
    "learn.opt_fn=optim.Adam\n",
    "learn.crit=nn.BCEWithLogitsLoss()\n",
    "learn.metrics=[accuracy_thresh(0.5)]"
   ]
  },
  {
   "cell_type": "code",
   "execution_count": 98,
   "metadata": {},
   "outputs": [
    {
     "data": {
      "application/vnd.jupyter.widget-view+json": {
       "model_id": "42e33fcdd5cc4ddaaffcaf4f30541efb",
       "version_major": 2,
       "version_minor": 0
      },
      "text/plain": [
       "HBox(children=(IntProgress(value=0, description='Epoch', max=1), HTML(value='')))"
      ]
     },
     "metadata": {},
     "output_type": "display_data"
    },
    {
     "name": "stdout",
     "output_type": "stream",
     "text": [
      "epoch      trn_loss   val_loss   <lambda>                      \n",
      "    0      -5051.123016 -59149375733.76 0.0       \n",
      "\n"
     ]
    },
    {
     "data": {
      "image/png": "[encoded data removed]",
      "text/plain": [
       "<Figure size 432x288 with 1 Axes>"
      ]
     },
     "metadata": {},
     "output_type": "display_data"
    }
   ],
   "source": [
    "learn.lr_find()\n",
    "learn.sched.plot()"
   ]
  },
  {
   "cell_type": "code",
   "execution_count": 99,
   "metadata": {},
   "outputs": [],
   "source": [
    "lr=4e-2"
   ]
  },
  {
   "cell_type": "code",
   "execution_count": 100,
   "metadata": {},
   "outputs": [
    {
     "data": {
      "application/vnd.jupyter.widget-view+json": {
       "model_id": "4a587ea55d0c46e88084e8629ea0bf49",
       "version_major": 2,
       "version_minor": 0
      },
      "text/plain": [
       "HBox(children=(IntProgress(value=0, description='Epoch', max=5), HTML(value='')))"
      ]
     },
     "metadata": {},
     "output_type": "display_data"
    },
    {
     "name": "stdout",
     "output_type": "stream",
     "text": [
      "epoch      trn_loss   val_loss   <lambda>                      \n",
      "    0      -1008.764706 -27586.462578 0.274355  \n",
      "    1      -8885.77229 -37176.250938 0.702047                  \n",
      "    2      -24789.699808 -72966.656875 0.678736                \n",
      "    3      -45312.926632 -101635.88375 7.2e-05                 \n",
      "    4      -65388.809393 -117884.29625 3.8e-05                 \n",
      "\n"
     ]
    },
    {
     "data": {
      "text/plain": [
       "[array([-117884.29625]), 3.7841796875e-05]"
      ]
     },
     "execution_count": 100,
     "metadata": {},
     "output_type": "execute_result"
    }
   ],
   "source": [
    "learn.fit(lr,1,cycle_len=5,use_clr=(20,5))"
   ]
  },
  {
   "cell_type": "code",
   "execution_count": 101,
   "metadata": {},
   "outputs": [],
   "source": [
    "learn.save('tmp')"
   ]
  },
  {
   "cell_type": "code",
   "execution_count": 102,
   "metadata": {},
   "outputs": [],
   "source": [
    "learn.load('tmp')"
   ]
  },
  {
   "cell_type": "code",
   "execution_count": 103,
   "metadata": {},
   "outputs": [],
   "source": [
    "py,ay = learn.predict_with_targs()"
   ]
  },
  {
   "cell_type": "code",
   "execution_count": 104,
   "metadata": {},
   "outputs": [
    {
     "data": {
      "text/plain": [
       "(200, 128, 128)"
      ]
     },
     "execution_count": 104,
     "metadata": {},
     "output_type": "execute_result"
    }
   ],
   "source": [
    "ay.shape"
   ]
  },
  {
   "cell_type": "code",
   "execution_count": 105,
   "metadata": {},
   "outputs": [
    {
     "data": {
      "image/png": "[encoded data removed]",
      "text/plain": [
       "<Figure size 432x288 with 1 Axes>"
      ]
     },
     "metadata": {},
     "output_type": "display_data"
    }
   ],
   "source": [
    "show_img(ay[0]);"
   ]
  },
  {
   "cell_type": "code",
   "execution_count": 109,
   "metadata": {},
   "outputs": [
    {
     "data": {
      "image/png": "[encoded data removed]",
      "text/plain": [
       "<Figure size 432x288 with 1 Axes>"
      ]
     },
     "metadata": {},
     "output_type": "display_data"
    }
   ],
   "source": [
    "show_img(py[0]>1500); # why???"
   ]
  },
  {
   "cell_type": "code",
   "execution_count": 108,
   "metadata": {},
   "outputs": [
    {
     "data": {
      "text/plain": [
       "array([2185.329  , 2183.976  , 2186.9695 , 2185.586  , 2260.1875 , 2258.7646 , 2256.16   , 2254.7454 ,\n",
       "       2240.524  , 2239.0847 , 2267.225  , 2265.7583 , 2317.3022 , 2315.8655 , 2317.6008 , 2316.1646 ,\n",
       "       2509.2073 , 2507.7234 , 2510.6877 , 2509.1797 , 2504.726  , 2503.1868 , 2483.3386 , 2481.8008 ,\n",
       "       2535.8455 , 2534.324  , 2538.567  , 2537.0164 , 2522.7761 , 2521.2708 , 2520.6545 , 2519.1367 ,\n",
       "       2508.2617 , 2506.778  , 2520.0698 , 2518.5525 , 2517.6174 , 2516.1172 , 2516.5579 , 2515.0564 ,\n",
       "       2534.461  , 2532.9382 , 2565.3313 , 2563.7505 , 2546.5947 , 2545.06   , 2554.5688 , 2553.015  ,\n",
       "       2541.433  , 2539.901  , 2546.1084 , 2544.5496 , 2560.7366 , 2559.1792 , 2549.3577 , 2547.8074 ,\n",
       "       2565.1565 , 2563.5952 , 2569.0298 , 2567.437  , 2556.2915 , 2554.742  , 2554.6887 , 2553.1243 ,\n",
       "       2494.8782 , 2493.4136 , 2505.3252 , 2503.8289 , 2500.1016 , 2498.627  , 2499.1226 , 2497.6475 ,\n",
       "       2528.6555 , 2527.1423 , 2556.2793 , 2554.711  , 2535.5127 , 2533.9932 , 2542.68   , 2541.1416 ,\n",
       "       2068.2915 , 2066.966  , 2052.4307 , 2051.083  , 1680.0283 , 1678.9426 , 1662.8849 , 1661.7764 ,\n",
       "       1214.7266 , 1214.0214 , 1211.945  , 1211.2297 , 1090.4122 , 1089.7972 , 1098.1047 , 1097.4558 ,\n",
       "        192.47792,  192.3734 ,  193.28828,  193.18161,  200.44827,  200.35156,  197.29565,  197.19424,\n",
       "        198.73743,  198.63803,  200.27391,  200.1738 ,  207.18983,  207.10027,  202.62827,  202.53235,\n",
       "        201.7818 ,  201.68611,  203.09608,  202.99873,  201.28549,  201.19118,  196.62277,  196.52092,\n",
       "        189.95549,  189.84956,  190.69318,  190.58464,  192.59326,  192.48997,  189.16565,  189.05693],\n",
       "      dtype=float32)"
      ]
     },
     "execution_count": 108,
     "metadata": {},
     "output_type": "execute_result"
    }
   ],
   "source": [
    "(py[0])[80]"
   ]
  },
  {
   "cell_type": "markdown",
   "metadata": {},
   "source": [
    "The predicted image's pixels are on a spectrum, instead of binary. Let's convert the pixels to binary instead, using the 75th percentile as the threshold."
   ]
  },
  {
   "cell_type": "code",
   "execution_count": 74,
   "metadata": {},
   "outputs": [
    {
     "data": {
      "text/plain": [
       "<matplotlib.axes._subplots.AxesSubplot at 0x7fe0e0da1208>"
      ]
     },
     "execution_count": 74,
     "metadata": {},
     "output_type": "execute_result"
    },
    {
     "data": {
      "image/png": "[encoded data removed]",
      "text/plain": [
       "<Figure size 720x720 with 1 Axes>"
      ]
     },
     "metadata": {},
     "output_type": "display_data"
    }
   ],
   "source": [
    "thresh=np.percentile(py[0], 83) # experimentally determined threshold -- be careful!\n",
    "pred = np.copy(py[0])\n",
    "pred.shape\n",
    "pred[pred<thresh] = 0\n",
    "pred[pred>=thresh] = 255\n",
    "show_img(pred)"
   ]
  },
  {
   "cell_type": "markdown",
   "metadata": {},
   "source": [
    "Looks like it could use some work."
   ]
  },
  {
   "cell_type": "code",
   "execution_count": 75,
   "metadata": {},
   "outputs": [],
   "source": [
    "learn.unfreeze()"
   ]
  },
  {
   "cell_type": "code",
   "execution_count": 76,
   "metadata": {},
   "outputs": [],
   "source": [
    "learn.bn_freeze(True)"
   ]
  },
  {
   "cell_type": "code",
   "execution_count": 77,
   "metadata": {},
   "outputs": [],
   "source": [
    "lrs = np.array([lr/100, lr/10, lr])/4"
   ]
  },
  {
   "cell_type": "code",
   "execution_count": 78,
   "metadata": {},
   "outputs": [
    {
     "data": {
      "application/vnd.jupyter.widget-view+json": {
       "model_id": "95ae15015732416e9ffd583f5459622f",
       "version_major": 2,
       "version_minor": 0
      },
      "text/plain": [
       "HBox(children=(IntProgress(value=0, description='Epoch', max=20), HTML(value='')))"
      ]
     },
     "metadata": {},
     "output_type": "display_data"
    },
    {
     "name": "stdout",
     "output_type": "stream",
     "text": [
      "epoch      trn_loss   val_loss   <lambda>                      \n",
      "    0      -4555540199.572595 -429242695024.64 0.035085  \n",
      "    1      -7.851467022270049e+21 -1.304126918543095e+23 0.0       \n",
      "    2      -1.4383030897754064e+23 -5.6610679373380986e+23 0.0       \n",
      "    3      -3.660998032971119e+23 -1.0201700296950732e+24 0.0       \n",
      "    4      -6.277001621693905e+23 -1.4256973253949704e+24 0.0       \n",
      "    5      -9.020855964852407e+23 -1.7804586164724814e+24 0.0       \n",
      "    6      -1.1752721600859072e+24 -2.0921513487654692e+24 0.0       \n",
      "    7      -1.4421898676237846e+24 -2.3675368650253453e+24 0.0       \n",
      "    8      -1.6998967846962985e+24 -2.6068426827818294e+24 0.0       \n",
      "    9      -1.9430750359994321e+24 -2.817639541799427e+24 0.0       \n",
      "    10     -2.1689648146631824e+24 -2.998517442136434e+24 0.0       \n",
      "    11     -2.37777983420414e+24 -3.157802921249703e+24 0.0       \n",
      "    12     -2.5693714179398314e+24 -3.2950118789286627e+24 0.0       \n",
      "    13     -2.7440474965124175e+24 -3.411632068141289e+24 0.0       \n",
      "    14     -2.90157386457661e+24 -3.509351354441111e+24 0.0       \n",
      "    15     -3.0416621567188956e+24 -3.5900797137095203e+24 0.0       \n",
      "    16     -3.166056012823525e+24 -3.655001507620555e+24 0.0       \n",
      "    17     -3.2742270334843023e+24 -3.7035961459980247e+24 0.0       \n",
      "    18     -3.367287319419437e+24 -3.737391849354716e+24 0.0       \n",
      "    19     -3.444797955362589e+24 -3.7570291232325126e+24 0.0       \n",
      "\n"
     ]
    },
    {
     "data": {
      "text/plain": [
       "[array([-3.75703e+24]), 0.0]"
      ]
     },
     "execution_count": 78,
     "metadata": {},
     "output_type": "execute_result"
    }
   ],
   "source": [
    "learn.fit(lrs, 1, cycle_len=20, use_clr=(20,10))"
   ]
  },
  {
   "cell_type": "code",
   "execution_count": 79,
   "metadata": {},
   "outputs": [],
   "source": [
    "py,ay = learn.predict_with_targs()"
   ]
  },
  {
   "cell_type": "code",
   "execution_count": 80,
   "metadata": {},
   "outputs": [
    {
     "data": {
      "image/png": "[encoded data removed]",
      "text/plain": [
       "<Figure size 720x720 with 1 Axes>"
      ]
     },
     "metadata": {},
     "output_type": "display_data"
    }
   ],
   "source": [
    "show_img(ay[0]);"
   ]
  },
  {
   "cell_type": "code",
   "execution_count": 81,
   "metadata": {},
   "outputs": [
    {
     "data": {
      "text/plain": [
       "<matplotlib.axes._subplots.AxesSubplot at 0x7fe0e2edd7b8>"
      ]
     },
     "execution_count": 81,
     "metadata": {},
     "output_type": "execute_result"
    },
    {
     "data": {
      "image/png": "[encoded data removed]",
      "text/plain": [
       "<Figure size 720x720 with 1 Axes>"
      ]
     },
     "metadata": {},
     "output_type": "display_data"
    }
   ],
   "source": [
    "thresh=np.percentile(py[0], 83) # experimentally determined threshold -- be careful!\n",
    "pred = np.copy(py[0])\n",
    "pred.shape\n",
    "pred[pred<thresh] = 0\n",
    "pred[pred>=thresh] = 255\n",
    "show_img(pred)"
   ]
  }
 ],
 "metadata": {
  "kernelspec": {
   "display_name": "Python 3",
   "language": "python",
   "name": "python3"
  },
  "language_info": {
   "codemirror_mode": {
    "name": "ipython",
    "version": 3
   },
   "file_extension": ".py",
   "mimetype": "text/x-python",
   "name": "python",
   "nbconvert_exporter": "python",
   "pygments_lexer": "ipython3",
   "version": "3.6.5"
  }
 },
 "nbformat": 4,
 "nbformat_minor": 2
}
